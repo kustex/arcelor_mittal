{
 "cells": [
  {
   "cell_type": "code",
   "execution_count": 1,
   "metadata": {},
   "outputs": [],
   "source": [
    "import pandas as pd\n",
    "import seaborn as sns\n",
    "import numpy as np\n",
    "import matplotlib.pyplot as plt\n",
    "import random\n",
    "import joblib\n",
    "\n",
    "from sklearn.preprocessing import StandardScaler, OneHotEncoder\n",
    "from sklearn.ensemble import RandomForestClassifier\n",
    "from sklearn.impute import SimpleImputer\n",
    "from sklearn.linear_model import LogisticRegression\n",
    "from sklearn.tree import DecisionTreeClassifier\n",
    "from sklearn.pipeline import Pipeline\n",
    "from sklearn.metrics import roc_auc_score, f1_score, accuracy_score\n",
    "from sklearn.model_selection import train_test_split, GridSearchCV, cross_val_score\n",
    "from sklearn import svm"
   ]
  },
  {
   "cell_type": "code",
   "execution_count": 2,
   "metadata": {
    "scrolled": false
   },
   "outputs": [],
   "source": [
    "df = pd.read_csv('../data/CoilData.csv')\n",
    "coils = pd.read_csv('../data/output.csv')\n",
    "coil_list = list(map(int,list(coils.columns)))\n",
    "lst = []\n",
    "for i in df['coil']:\n",
    "    if i in coil_list:\n",
    "        lst.append(1)\n",
    "    else:\n",
    "        lst.append(0)\n",
    "df['contracted'] = lst\n",
    "df['analyse_main'] = [i[0:3] for i in df['analyse']]\n",
    "dummies_analyse_main = pd.get_dummies(df['analyse_main'], dtype=float)\n",
    "df = df.drop(columns=['coil', 'analyse', 'analyse_main'])\n",
    "data = df\n",
    "# data = df.join(dummies_analyse_main)"
   ]
  },
  {
   "cell_type": "code",
   "execution_count": 3,
   "metadata": {},
   "outputs": [],
   "source": [
    "data['Thickness profile'] = data['Thickness profile'].apply(lambda x: x.replace('*******', ''))\n",
    "data = data.replace('', np.nan, regex=True).dropna().astype(float)"
   ]
  },
  {
   "cell_type": "markdown",
   "metadata": {},
   "source": [
    "## Data selection and partitioning"
   ]
  },
  {
   "cell_type": "code",
   "execution_count": 4,
   "metadata": {
    "scrolled": false
   },
   "outputs": [
    {
     "name": "stdout",
     "output_type": "stream",
     "text": [
      "                                            0         1         2         3  \\\n",
      "furnace Number                         1.0000      1.00      1.00      1.00   \n",
      "Hardness_1                         11815.0000  10081.00  12052.00  12431.00   \n",
      "Hardness_2                           123.0000    101.00    125.00    111.00   \n",
      "Width                               1601.8000   1428.50    981.00   1755.20   \n",
      "Temperature before finishing mill   1181.0000   1188.00   1184.00   1195.00   \n",
      "Temperature after finishing mill     903.0000    865.00    908.00    942.00   \n",
      "Thickness                              5.1600      1.55      4.16      3.58   \n",
      "Thickness profile                     25.0092     25.00     20.00     30.00   \n",
      "c                                    720.0000    500.00    715.00     27.00   \n",
      "mn                                  5474.0000   1908.00   5490.00   5120.00   \n",
      "si                                    75.0000     84.00     97.00     55.00   \n",
      "nb                                   306.0000      0.00    332.00      0.00   \n",
      "p                                    141.0000    125.00    182.00    534.00   \n",
      "s                                     65.0000    109.00     67.00    101.00   \n",
      "al                                   259.0000    334.00    356.00    616.00   \n",
      "ma                                   249.0000    321.00    344.00    559.00   \n",
      "b                                      1.0000      1.00      1.00      6.00   \n",
      "n                                     51.0000     17.00     32.00     49.00   \n",
      "ti                                    11.0000     11.00     14.00    572.00   \n",
      "cr                                   181.0000    291.00    230.00    165.00   \n",
      "va                                    13.0000      9.00      0.00     28.00   \n",
      "mo                                    21.0000     14.00     13.00     28.00   \n",
      "contracted                             0.0000      0.00      0.00      1.00   \n",
      "\n",
      "                                         4  \n",
      "furnace Number                        1.00  \n",
      "Hardness_1                         9955.00  \n",
      "Hardness_2                          100.00  \n",
      "Width                              1476.50  \n",
      "Temperature before finishing mill  1151.00  \n",
      "Temperature after finishing mill    897.00  \n",
      "Thickness                             3.02  \n",
      "Thickness profile                     7.00  \n",
      "c                                   362.00  \n",
      "mn                                 1885.00  \n",
      "si                                   66.00  \n",
      "nb                                    0.00  \n",
      "p                                   112.00  \n",
      "s                                   112.00  \n",
      "al                                  379.00  \n",
      "ma                                  370.00  \n",
      "b                                     1.00  \n",
      "n                                    19.00  \n",
      "ti                                    7.00  \n",
      "cr                                  243.00  \n",
      "va                                    0.00  \n",
      "mo                                   17.00  \n",
      "contracted                            1.00  \n"
     ]
    }
   ],
   "source": [
    "# Making balanced datasets\n",
    "len_coil_list = len(coil_list)\n",
    "df_good_coils = data[data.contracted == 0].sample(len_coil_list)\n",
    "df_bad_coils = data[data.contracted == 1]\n",
    "\n",
    "# concat even number of good and bad coils in df and reshuffle the dataframe so we randomize the the data when we\n",
    "# split it. \n",
    "df_balanced_coils = pd.concat([df_good_coils, df_bad_coils]).sample(frac=1).reset_index(drop=True)\n",
    "print(df_balanced_coils.head().T)\n",
    "\n",
    "X = df_balanced_coils.iloc[:,:-1]\n",
    "y = df_balanced_coils.contracted\n",
    "x_train, x_test, y_train, y_test = train_test_split(X, y, test_size=0.2, random_state=42)"
   ]
  },
  {
   "cell_type": "markdown",
   "metadata": {},
   "source": [
    "## Baseline modeling"
   ]
  },
  {
   "cell_type": "code",
   "execution_count": 5,
   "metadata": {},
   "outputs": [],
   "source": [
    "pipe_lr = Pipeline([('scaler', StandardScaler()),\n",
    "                    ('clf', LogisticRegression(random_state=42))])\n",
    "\n",
    "pipe_dt = Pipeline([('scaler', StandardScaler()),\n",
    "                    ('decsT', DecisionTreeClassifier())])\n",
    "\n",
    "pipe_rf = Pipeline([('scaler', StandardScaler()),\n",
    "                    ('clf', RandomForestClassifier(random_state=42))])\n",
    "\n",
    "pipe_svm = Pipeline([('scaler', StandardScaler()),\n",
    "                     ('clf', svm.SVC(random_state=42))])"
   ]
  },
  {
   "cell_type": "code",
   "execution_count": 6,
   "metadata": {},
   "outputs": [],
   "source": [
    "# Set grid search params\n",
    "param_range = [9, 10]\n",
    "param_range_fl = [1.0, 0.5]\n",
    "max_depth_range = np.arange(3,15)\n",
    "min_samples_leaf_range = ...\n",
    "\n",
    "grid_params_lr = [{'clf__penalty': ['l1', 'l2'],\n",
    "        'clf__C': param_range_fl,\n",
    "        'clf__solver': ['liblinear']}] \n",
    "\n",
    "grid_params_dt = [{'decsT__max_depth': ['gini', 'entropy'],\n",
    "                  'decsT__max_depth': max_depth_range}]\n",
    "\n",
    "grid_params_rf = [{'clf__criterion': ['gini', 'entropy'],\n",
    "        'clf__max_depth': param_range,\n",
    "        'clf__min_samples_split': param_range}]\n",
    "\n",
    "grid_params_svm = [{'clf__kernel': ['linear', 'rbf'], \n",
    "        'clf__C': param_range}]"
   ]
  },
  {
   "cell_type": "code",
   "execution_count": 7,
   "metadata": {},
   "outputs": [],
   "source": [
    "LR = GridSearchCV(estimator=pipe_lr,\n",
    "            param_grid=grid_params_lr,\n",
    "            scoring='accuracy',\n",
    "            cv=10)\n",
    "\n",
    "DT = GridSearchCV(estimator=pipe_dt,\n",
    "                 param_grid=grid_params_dt,\n",
    "                 scoring='accuracy')\n",
    "\n",
    "RF = GridSearchCV(estimator=pipe_rf,\n",
    "                 param_grid=grid_params_rf,\n",
    "                 scoring='accuracy',\n",
    "                 cv=10)\n",
    "\n",
    "SVM = GridSearchCV(estimator=pipe_svm,\n",
    "                  param_grid=grid_params_svm,\n",
    "                  scoring='accuracy',\n",
    "                  cv=10)"
   ]
  },
  {
   "cell_type": "code",
   "execution_count": 8,
   "metadata": {},
   "outputs": [],
   "source": [
    "grids = [LR, DT, RF, SVM]\n",
    "\n",
    "# Creating a dict for our reference\n",
    "grid_dict = {0: 'Logistic Regression',\n",
    "            1: 'Decision Tree Classifier',\n",
    "            2: 'Random Forest Classifier',\n",
    "            3: 'Support Vector Machine'}"
   ]
  },
  {
   "cell_type": "code",
   "execution_count": 9,
   "metadata": {
    "scrolled": false
   },
   "outputs": [
    {
     "name": "stdout",
     "output_type": "stream",
     "text": [
      "Performing model optimizations...\n",
      "\n",
      "Estimator: Logistic Regression\n",
      "Best params are : {'clf__C': 1.0, 'clf__penalty': 'l2', 'clf__solver': 'liblinear'}\n",
      "Best training accuracy: 0.778\n",
      "Test set accuracy score for best params: 0.785 \n",
      "\n",
      "Estimator: Decision Tree Classifier\n",
      "Best params are : {'decsT__max_depth': 8}\n",
      "Best training accuracy: 0.788\n",
      "Test set accuracy score for best params: 0.791 \n",
      "\n",
      "Estimator: Random Forest Classifier\n",
      "Best params are : {'clf__criterion': 'gini', 'clf__max_depth': 10, 'clf__min_samples_split': 9}\n",
      "Best training accuracy: 0.824\n",
      "Test set accuracy score for best params: 0.820 \n",
      "\n",
      "Estimator: Support Vector Machine\n",
      "Best params are : {'clf__C': 9, 'clf__kernel': 'rbf'}\n",
      "Best training accuracy: 0.813\n",
      "Test set accuracy score for best params: 0.819 \n",
      "\n",
      "Classifier with best test set accuracy: Random Forest Classifier\n",
      "\n",
      "Saved Random Forest Classifier grid search pipeline to file: best_grid_search_pipeline.pkl\n"
     ]
    }
   ],
   "source": [
    "# Fit the grid search objects\n",
    "print('Performing model optimizations...')\n",
    "best_acc = 0.0\n",
    "best_clf = 0\n",
    "best_gs = ''\n",
    "for idx, gs in enumerate(grids):\n",
    "    print('\\nEstimator: %s' % grid_dict[idx])\n",
    "    gs.fit(x_train, y_train)\n",
    "    print('Best params are : %s' % gs.best_params_)\n",
    "    # Best training data accuracy\n",
    "    print('Best training accuracy: %.3f' % gs.best_score_)\n",
    "    # Predict on test data with best params\n",
    "    y_pred = gs.predict(x_test)\n",
    "    # Test data accuracy of model with best params\n",
    "    print('Test set accuracy score for best params: %.3f ' % accuracy_score(y_test, y_pred))\n",
    "    # Track best (highest test accuracy) model\n",
    "    if accuracy_score(y_test, y_pred) > best_acc:\n",
    "        best_acc = accuracy_score(y_test, y_pred)\n",
    "        best_gs = gs\n",
    "        best_clf = idx\n",
    "print('\\nClassifier with best test set accuracy: %s' % grid_dict[best_clf])\n",
    "\n",
    "# Save best grid search pipeline to file\n",
    "dump_file = 'best_grid_search_pipeline.pkl'\n",
    "joblib.dump(best_gs, dump_file, compress=1)\n",
    "print('\\nSaved %s grid search pipeline to file: %s' % (grid_dict[best_clf], dump_file))"
   ]
  }
 ],
 "metadata": {
  "kernelspec": {
   "display_name": "Python 3",
   "language": "python",
   "name": "python3"
  },
  "language_info": {
   "codemirror_mode": {
    "name": "ipython",
    "version": 3
   },
   "file_extension": ".py",
   "mimetype": "text/x-python",
   "name": "python",
   "nbconvert_exporter": "python",
   "pygments_lexer": "ipython3",
   "version": "3.8.5"
  }
 },
 "nbformat": 4,
 "nbformat_minor": 4
}
