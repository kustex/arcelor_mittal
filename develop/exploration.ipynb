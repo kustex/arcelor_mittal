{
 "cells": [
  {
   "cell_type": "code",
   "execution_count": 1,
   "metadata": {},
   "outputs": [],
   "source": [
    "import pandas as pd\n",
    "import seaborn as sns\n",
    "import numpy as np\n",
    "import matplotlib.pyplot as plt\n",
    "import random\n",
    "\n",
    "from sklearn.preprocessing import StandardScaler\n",
    "from sklearn.linear_model import LogisticRegression\n",
    "from sklearn.pipeline import Pipeline\n",
    "from sklearn.metrics import roc_auc_score, f1_score\n",
    "from sklearn.model_selection import train_test_split"
   ]
  },
  {
   "cell_type": "code",
   "execution_count": 2,
   "metadata": {
    "scrolled": false
   },
   "outputs": [
    {
     "data": {
      "text/plain": [
       "'\\nCheck how many times it happens that the coils are broken right after each other\\n\\n\\n\\n'"
      ]
     },
     "execution_count": 2,
     "metadata": {},
     "output_type": "execute_result"
    }
   ],
   "source": [
    "data = pd.read_csv('../data/CoilData.csv')\n",
    "coils = pd.read_csv('./output.csv')\n",
    "coil_list = list(map(int,list(coils.columns)))\n",
    "lst = []\n",
    "for i in data['coil']:\n",
    "    if i in coil_list:\n",
    "        lst.append(1)\n",
    "    else:\n",
    "        lst.append(0)\n",
    "data['contracted'] = lst\n",
    "df = data\n",
    "\n",
    "'''\n",
    "Check how many times it happens that the coils are broken right after each other\n",
    "\n",
    "\n",
    "\n",
    "'''\n",
    "# df = pd.get_dummies(data, columns=['contracted'])"
   ]
  },
  {
   "cell_type": "code",
   "execution_count": 3,
   "metadata": {},
   "outputs": [],
   "source": [
    "# plt.figure(figsize=(20, 10))\n",
    "# corr = df.corr()\n",
    "# mask = np.zeros_like(corr)\n",
    "# mask[np.triu_indices_from(mask)] = True\n",
    "# heatmap = sns.heatmap(corr, mask=mask, vmin=-1, vmax=1, annot=True)\n",
    "# heatmap.set_title('Correlation Heatmap', fontdict={'fontsize':12}, pad=12);\n",
    "# plt.show()"
   ]
  },
  {
   "cell_type": "code",
   "execution_count": 4,
   "metadata": {},
   "outputs": [
    {
     "data": {
      "text/plain": [
       "\"\\nFit a model for every type of metal --- 'analyse' column ---\""
      ]
     },
     "execution_count": 4,
     "metadata": {},
     "output_type": "execute_result"
    }
   ],
   "source": [
    "'''\n",
    "Fit a model for every type of metal --- 'analyse' column ---'''"
   ]
  },
  {
   "cell_type": "markdown",
   "metadata": {},
   "source": [
    "## Data selection and partitioning"
   ]
  },
  {
   "cell_type": "code",
   "execution_count": 5,
   "metadata": {},
   "outputs": [],
   "source": [
    "df = df.drop(columns=['coil','analyse'])"
   ]
  },
  {
   "cell_type": "code",
   "execution_count": 6,
   "metadata": {},
   "outputs": [
    {
     "data": {
      "text/html": [
       "<div>\n",
       "<style scoped>\n",
       "    .dataframe tbody tr th:only-of-type {\n",
       "        vertical-align: middle;\n",
       "    }\n",
       "\n",
       "    .dataframe tbody tr th {\n",
       "        vertical-align: top;\n",
       "    }\n",
       "\n",
       "    .dataframe thead th {\n",
       "        text-align: right;\n",
       "    }\n",
       "</style>\n",
       "<table border=\"1\" class=\"dataframe\">\n",
       "  <thead>\n",
       "    <tr style=\"text-align: right;\">\n",
       "      <th></th>\n",
       "      <th>0</th>\n",
       "      <th>1</th>\n",
       "      <th>2</th>\n",
       "      <th>3</th>\n",
       "      <th>4</th>\n",
       "    </tr>\n",
       "  </thead>\n",
       "  <tbody>\n",
       "    <tr>\n",
       "      <th>furnace Number</th>\n",
       "      <td>1.00</td>\n",
       "      <td>3.00</td>\n",
       "      <td>4.00</td>\n",
       "      <td>3.00</td>\n",
       "      <td>4.00</td>\n",
       "    </tr>\n",
       "    <tr>\n",
       "      <th>Hardness_1</th>\n",
       "      <td>10003.00</td>\n",
       "      <td>10123.00</td>\n",
       "      <td>10040.00</td>\n",
       "      <td>10243.00</td>\n",
       "      <td>10012.00</td>\n",
       "    </tr>\n",
       "    <tr>\n",
       "      <th>Hardness_2</th>\n",
       "      <td>101.00</td>\n",
       "      <td>101.00</td>\n",
       "      <td>102.00</td>\n",
       "      <td>102.00</td>\n",
       "      <td>100.00</td>\n",
       "    </tr>\n",
       "    <tr>\n",
       "      <th>Width</th>\n",
       "      <td>1302.10</td>\n",
       "      <td>1282.30</td>\n",
       "      <td>1297.40</td>\n",
       "      <td>1295.20</td>\n",
       "      <td>1293.30</td>\n",
       "    </tr>\n",
       "    <tr>\n",
       "      <th>Temperature before finishing mill</th>\n",
       "      <td>1147.00</td>\n",
       "      <td>1150.00</td>\n",
       "      <td>1183.00</td>\n",
       "      <td>1165.00</td>\n",
       "      <td>1192.00</td>\n",
       "    </tr>\n",
       "    <tr>\n",
       "      <th>Temperature after finishing mill</th>\n",
       "      <td>921.00</td>\n",
       "      <td>920.00</td>\n",
       "      <td>933.00</td>\n",
       "      <td>910.00</td>\n",
       "      <td>909.00</td>\n",
       "    </tr>\n",
       "    <tr>\n",
       "      <th>Thickness</th>\n",
       "      <td>4.36</td>\n",
       "      <td>4.37</td>\n",
       "      <td>4.43</td>\n",
       "      <td>4.44</td>\n",
       "      <td>3.95</td>\n",
       "    </tr>\n",
       "    <tr>\n",
       "      <th>Thickness profile</th>\n",
       "      <td>31.00</td>\n",
       "      <td>35.00</td>\n",
       "      <td>25.00</td>\n",
       "      <td>28.00</td>\n",
       "      <td>26.00</td>\n",
       "    </tr>\n",
       "    <tr>\n",
       "      <th>c</th>\n",
       "      <td>355.00</td>\n",
       "      <td>551.00</td>\n",
       "      <td>457.00</td>\n",
       "      <td>697.00</td>\n",
       "      <td>477.00</td>\n",
       "    </tr>\n",
       "    <tr>\n",
       "      <th>mn</th>\n",
       "      <td>2162.00</td>\n",
       "      <td>1985.00</td>\n",
       "      <td>1895.00</td>\n",
       "      <td>2008.00</td>\n",
       "      <td>1936.00</td>\n",
       "    </tr>\n",
       "    <tr>\n",
       "      <th>si</th>\n",
       "      <td>49.00</td>\n",
       "      <td>101.00</td>\n",
       "      <td>60.00</td>\n",
       "      <td>69.00</td>\n",
       "      <td>52.00</td>\n",
       "    </tr>\n",
       "    <tr>\n",
       "      <th>nb</th>\n",
       "      <td>0.00</td>\n",
       "      <td>0.00</td>\n",
       "      <td>0.00</td>\n",
       "      <td>0.00</td>\n",
       "      <td>0.00</td>\n",
       "    </tr>\n",
       "    <tr>\n",
       "      <th>p</th>\n",
       "      <td>133.00</td>\n",
       "      <td>118.00</td>\n",
       "      <td>108.00</td>\n",
       "      <td>139.00</td>\n",
       "      <td>112.00</td>\n",
       "    </tr>\n",
       "    <tr>\n",
       "      <th>s</th>\n",
       "      <td>143.00</td>\n",
       "      <td>90.00</td>\n",
       "      <td>115.00</td>\n",
       "      <td>98.00</td>\n",
       "      <td>121.00</td>\n",
       "    </tr>\n",
       "    <tr>\n",
       "      <th>al</th>\n",
       "      <td>304.00</td>\n",
       "      <td>395.00</td>\n",
       "      <td>476.00</td>\n",
       "      <td>306.00</td>\n",
       "      <td>340.00</td>\n",
       "    </tr>\n",
       "    <tr>\n",
       "      <th>ma</th>\n",
       "      <td>291.00</td>\n",
       "      <td>384.00</td>\n",
       "      <td>463.00</td>\n",
       "      <td>296.00</td>\n",
       "      <td>329.00</td>\n",
       "    </tr>\n",
       "    <tr>\n",
       "      <th>b</th>\n",
       "      <td>1.00</td>\n",
       "      <td>1.00</td>\n",
       "      <td>1.00</td>\n",
       "      <td>1.00</td>\n",
       "      <td>1.00</td>\n",
       "    </tr>\n",
       "    <tr>\n",
       "      <th>n</th>\n",
       "      <td>34.00</td>\n",
       "      <td>33.00</td>\n",
       "      <td>20.00</td>\n",
       "      <td>21.00</td>\n",
       "      <td>28.00</td>\n",
       "    </tr>\n",
       "    <tr>\n",
       "      <th>ti</th>\n",
       "      <td>6.00</td>\n",
       "      <td>12.00</td>\n",
       "      <td>11.00</td>\n",
       "      <td>9.00</td>\n",
       "      <td>8.00</td>\n",
       "    </tr>\n",
       "    <tr>\n",
       "      <th>cr</th>\n",
       "      <td>302.00</td>\n",
       "      <td>189.00</td>\n",
       "      <td>288.00</td>\n",
       "      <td>253.00</td>\n",
       "      <td>297.00</td>\n",
       "    </tr>\n",
       "    <tr>\n",
       "      <th>va</th>\n",
       "      <td>0.00</td>\n",
       "      <td>25.00</td>\n",
       "      <td>0.00</td>\n",
       "      <td>0.00</td>\n",
       "      <td>0.00</td>\n",
       "    </tr>\n",
       "    <tr>\n",
       "      <th>mo</th>\n",
       "      <td>25.00</td>\n",
       "      <td>7.00</td>\n",
       "      <td>40.00</td>\n",
       "      <td>9.00</td>\n",
       "      <td>23.00</td>\n",
       "    </tr>\n",
       "    <tr>\n",
       "      <th>contracted</th>\n",
       "      <td>1.00</td>\n",
       "      <td>0.00</td>\n",
       "      <td>0.00</td>\n",
       "      <td>0.00</td>\n",
       "      <td>0.00</td>\n",
       "    </tr>\n",
       "  </tbody>\n",
       "</table>\n",
       "</div>"
      ],
      "text/plain": [
       "                                          0         1         2         3  \\\n",
       "furnace Number                         1.00      3.00      4.00      3.00   \n",
       "Hardness_1                         10003.00  10123.00  10040.00  10243.00   \n",
       "Hardness_2                           101.00    101.00    102.00    102.00   \n",
       "Width                               1302.10   1282.30   1297.40   1295.20   \n",
       "Temperature before finishing mill   1147.00   1150.00   1183.00   1165.00   \n",
       "Temperature after finishing mill     921.00    920.00    933.00    910.00   \n",
       "Thickness                              4.36      4.37      4.43      4.44   \n",
       "Thickness profile                     31.00     35.00     25.00     28.00   \n",
       "c                                    355.00    551.00    457.00    697.00   \n",
       "mn                                  2162.00   1985.00   1895.00   2008.00   \n",
       "si                                    49.00    101.00     60.00     69.00   \n",
       "nb                                     0.00      0.00      0.00      0.00   \n",
       "p                                    133.00    118.00    108.00    139.00   \n",
       "s                                    143.00     90.00    115.00     98.00   \n",
       "al                                   304.00    395.00    476.00    306.00   \n",
       "ma                                   291.00    384.00    463.00    296.00   \n",
       "b                                      1.00      1.00      1.00      1.00   \n",
       "n                                     34.00     33.00     20.00     21.00   \n",
       "ti                                     6.00     12.00     11.00      9.00   \n",
       "cr                                   302.00    189.00    288.00    253.00   \n",
       "va                                     0.00     25.00      0.00      0.00   \n",
       "mo                                    25.00      7.00     40.00      9.00   \n",
       "contracted                             1.00      0.00      0.00      0.00   \n",
       "\n",
       "                                          4  \n",
       "furnace Number                         4.00  \n",
       "Hardness_1                         10012.00  \n",
       "Hardness_2                           100.00  \n",
       "Width                               1293.30  \n",
       "Temperature before finishing mill   1192.00  \n",
       "Temperature after finishing mill     909.00  \n",
       "Thickness                              3.95  \n",
       "Thickness profile                     26.00  \n",
       "c                                    477.00  \n",
       "mn                                  1936.00  \n",
       "si                                    52.00  \n",
       "nb                                     0.00  \n",
       "p                                    112.00  \n",
       "s                                    121.00  \n",
       "al                                   340.00  \n",
       "ma                                   329.00  \n",
       "b                                      1.00  \n",
       "n                                     28.00  \n",
       "ti                                     8.00  \n",
       "cr                                   297.00  \n",
       "va                                     0.00  \n",
       "mo                                    23.00  \n",
       "contracted                             0.00  "
      ]
     },
     "execution_count": 6,
     "metadata": {},
     "output_type": "execute_result"
    }
   ],
   "source": [
    "df['Thickness profile'] = df['Thickness profile'].apply(lambda x: x.replace('*******', ''))\n",
    "df = df.replace('', np.nan, regex=True).dropna().astype(float)\n",
    "df.head().T"
   ]
  },
  {
   "cell_type": "code",
   "execution_count": 7,
   "metadata": {
    "scrolled": false
   },
   "outputs": [],
   "source": [
    "# making random samples for train and test sets, because the output.csv is ordered from highest \n",
    "# absolute difference to less ...\n",
    "X = df.iloc[:,:-1]\n",
    "y = df.contracted\n",
    "X_train, X_test, y_train, y_test = train_test_split(X, y, test_size=0.2, random_state=42)\n",
    "\n",
    "'''\n",
    "Balanced dataset for more realistic scores ,even 0 and 1 in train and test sets'''\n",
    "\n"
   ]
  },
  {
   "cell_type": "markdown",
   "metadata": {},
   "source": [
    "## Baseline modeling"
   ]
  },
  {
   "cell_type": "code",
   "execution_count": 8,
   "metadata": {},
   "outputs": [],
   "source": [
    "pipe = Pipeline([\n",
    "    ('scaler', StandardScaler()),\n",
    "    ('logreg', LogisticRegression())\n",
    "])\n",
    "\n",
    "# Train model\n",
    "pipe.fit(X_train, y_train)\n",
    "pipe.score(X_test, y_test)\n",
    "\n",
    "# Make predictions\n",
    "y_train_pred_proba = pipe.predict_proba(X_train)[:,1]\n",
    "y_test_pred_proba = pipe.predict_proba(X_test)[:,1]"
   ]
  },
  {
   "cell_type": "code",
   "execution_count": 9,
   "metadata": {
    "scrolled": false
   },
   "outputs": [
    {
     "name": "stdout",
     "output_type": "stream",
     "text": [
      "train roc auc: 0.85\n",
      "test roc auc:   0.84\n"
     ]
    }
   ],
   "source": [
    "# Observe general model performance\n",
    "print('train roc auc: {:.2f}'.format(roc_auc_score(y_train, y_train_pred_proba)))\n",
    "print('test roc auc:   {:.2f}'.format(roc_auc_score(y_test, y_test_pred_proba)))"
   ]
  },
  {
   "cell_type": "code",
   "execution_count": 10,
   "metadata": {},
   "outputs": [
    {
     "name": "stdout",
     "output_type": "stream",
     "text": [
      "train f1:      0.19\n",
      "test f1:        0.18\n"
     ]
    }
   ],
   "source": [
    "# Observe general model performance\n",
    "y_train_pred = y_train_pred_proba > 0.5\n",
    "y_test_pred = y_test_pred_proba > 0.5\n",
    "\n",
    "print('train f1:      {:.2f}'.format(f1_score(y_train, y_train_pred)))\n",
    "print('test f1:        {:.2f}'.format(f1_score(y_test, y_test_pred)))"
   ]
  }
 ],
 "metadata": {
  "kernelspec": {
   "display_name": "Python 3",
   "language": "python",
   "name": "python3"
  },
  "language_info": {
   "codemirror_mode": {
    "name": "ipython",
    "version": 3
   },
   "file_extension": ".py",
   "mimetype": "text/x-python",
   "name": "python",
   "nbconvert_exporter": "python",
   "pygments_lexer": "ipython3",
   "version": "3.8.5"
  }
 },
 "nbformat": 4,
 "nbformat_minor": 4
}
