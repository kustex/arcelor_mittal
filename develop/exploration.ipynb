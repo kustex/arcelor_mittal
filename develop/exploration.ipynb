{
 "cells": [
  {
   "cell_type": "code",
   "execution_count": 1,
   "metadata": {},
   "outputs": [],
   "source": [
    "import pandas as pd\n",
    "import seaborn as sns\n",
    "import numpy as np\n",
    "import matplotlib.pyplot as plt\n",
    "import random\n",
    "import joblib\n",
    "import warnings\n",
    "\n",
    "from pandas.core.common import SettingWithCopyWarning\n",
    "from sklearn.exceptions import ConvergenceWarning\n",
    "\n",
    "import matplotlib.ticker as mtick\n",
    "\n",
    "from sklearn.preprocessing import StandardScaler, OneHotEncoder\n",
    "from sklearn.ensemble import RandomForestClassifier\n",
    "from sklearn.impute import SimpleImputer\n",
    "from sklearn.linear_model import LogisticRegression\n",
    "from sklearn.tree import DecisionTreeClassifier\n",
    "from sklearn.pipeline import Pipeline\n",
    "from sklearn.metrics import roc_auc_score, f1_score, accuracy_score, classification_report, confusion_matrix, roc_curve\n",
    "from sklearn.model_selection import train_test_split, GridSearchCV, cross_val_score\n",
    "from sklearn.naive_bayes import GaussianNB, BernoulliNB\n",
    "from sklearn import svm"
   ]
  },
  {
   "cell_type": "code",
   "execution_count": 2,
   "metadata": {
    "scrolled": false
   },
   "outputs": [],
   "source": [
    "df = pd.read_csv('../data/CoilData.csv')\n",
    "coils = pd.read_csv('../data/output.csv')\n",
    "coil_list = list(map(int,list(coils.columns)))\n",
    "lst = []\n",
    "for i in df['coil']:\n",
    "    if i in coil_list:\n",
    "        lst.append(1)\n",
    "    else:\n",
    "        lst.append(0)\n",
    "df['contracted'] = lst\n",
    "df['analyse_main'] = [i[0:3] for i in df['analyse']]\n",
    "dummies_analyse_main = pd.get_dummies(df['analyse_main'], dtype=float)"
   ]
  },
  {
   "cell_type": "markdown",
   "metadata": {},
   "source": [
    "### Bad coils exploration"
   ]
  },
  {
   "cell_type": "code",
   "execution_count": 3,
   "metadata": {
    "scrolled": false
   },
   "outputs": [],
   "source": [
    "# warnings.simplefilter(action=\"ignore\", category=SettingWithCopyWarning)\n",
    "warnings.filterwarnings(\"ignore\")\n",
    "\n",
    "bad_c = df[df['contracted']==1]\n",
    "bad_c['analyse_main'] = [i[:-2] for i in bad_c['analyse']]"
   ]
  },
  {
   "cell_type": "code",
   "execution_count": 4,
   "metadata": {},
   "outputs": [
    {
     "name": "stdout",
     "output_type": "stream",
     "text": [
      "The top 0.09090909090909091% of most recurring main categories count for 41.37734775184975% of the total number of contracted coils\n"
     ]
    }
   ],
   "source": [
    "len_main = len(bad_c.analyse_main.value_counts())\n",
    "ratio_of_total = int(len_main/10)/len_main\n",
    "top_ninety_percentile = bad_c.analyse_main.value_counts(ascending=False).head(int(len_main/10)).sum()\n",
    "the_rest = bad_c.analyse_main.value_counts(ascending=True).head(len_main - int(len_main/10)).sum()\n",
    "ratio = 1 - (the_rest/top_ninety_percentile)\n",
    "\n",
    "print(f'The top {ratio_of_total}% of most recurring main categories count for {ratio * 100}% of the total number of contracted coils')"
   ]
  },
  {
   "cell_type": "code",
   "execution_count": 5,
   "metadata": {
    "scrolled": true
   },
   "outputs": [],
   "source": [
    "warnings.simplefilter(action=\"ignore\", category=SettingWithCopyWarning)\n",
    "\n",
    "# get list of 20% most recurring categories\n",
    "top_bad_main_categories = bad_c.analyse_main.value_counts(ascending=False).head(int(len_main/10)).index.tolist()\n",
    "\n",
    "# add column if coil in category\n",
    "in_main_category = []\n",
    "for coil in bad_c['analyse']:\n",
    "    if coil[:-2] in top_bad_main_categories:\n",
    "        in_main_category.append(1)\n",
    "    else:\n",
    "        in_main_category.append(0)\n",
    "\n",
    "bad_c['is_in_main_top_main_categories'] = in_main_category\n",
    "bad_coil_list = list(bad_c.coil[bad_c['is_in_main_top_main_categories'] == 1])"
   ]
  },
  {
   "cell_type": "code",
   "execution_count": 6,
   "metadata": {},
   "outputs": [
    {
     "name": "stdout",
     "output_type": "stream",
     "text": [
      "   Hardness_1  Hardness_2   Width  Thickness Thickness profile    c    mn  \\\n",
      "0       10003         101  1302.1       4.36                31  355  2162   \n",
      "1       10123         101  1282.3       4.37                35  551  1985   \n",
      "2       10040         102  1297.4       4.43                25  457  1895   \n",
      "3       10243         102  1295.2       4.44                28  697  2008   \n",
      "4       10012         100  1293.3       3.95                26  477  1936   \n",
      "\n",
      "    si  nb    p    s   al   ma  b   n  ti   cr  va  mo  contracted  \n",
      "0   49   0  133  143  304  291  1  34   6  302   0  25           1  \n",
      "1  101   0  118   90  395  384  1  33  12  189  25   7           0  \n",
      "2   60   0  108  115  476  463  1  20  11  288   0  40           0  \n",
      "3   69   0  139   98  306  296  1  21   9  253   0   9           0  \n",
      "4   52   0  112  121  340  329  1  28   8  297   0  23           0  \n"
     ]
    }
   ],
   "source": [
    "# removing columns\n",
    "coil_list = df.coil\n",
    "df = df.drop(columns=['coil', 'analyse', 'analyse_main', 'furnace Number', 'Temperature before finishing mill', \n",
    "                      'Temperature after finishing mill'])\n",
    "data = df.copy()\n",
    "print(data.head())"
   ]
  },
  {
   "cell_type": "code",
   "execution_count": 7,
   "metadata": {
    "scrolled": false
   },
   "outputs": [],
   "source": [
    "# replace string values in Thickness profile column\n",
    "data['Thickness profile'] = data['Thickness profile'].apply(lambda x: x.replace('*******', ''))\n",
    "data = data.replace('', np.nan, regex=True).dropna().astype(float)\n",
    "data = data[data['Thickness profile'] >= 0]"
   ]
  },
  {
   "cell_type": "markdown",
   "metadata": {},
   "source": [
    "## Transform data"
   ]
  },
  {
   "cell_type": "code",
   "execution_count": 8,
   "metadata": {},
   "outputs": [],
   "source": [
    "# Standardize data\n",
    "# scaler = StandardScaler()\n",
    "# selection_standardize = data.iloc[:,0:5]\n",
    "# list_columns = selection_standardize.columns\n",
    "# scaled_selection = pd.DataFrame(data=scaler.fit_transform(selection_standardize), columns=[list_columns])\n",
    "# print(scaled_selection)"
   ]
  },
  {
   "cell_type": "code",
   "execution_count": 9,
   "metadata": {
    "scrolled": false
   },
   "outputs": [],
   "source": [
    "# Transform to log data and replace -inf values with min value != 0 \n",
    "# in each column and get the log of that number divided by 1000\n",
    "\n",
    "log_selection = data.iloc[:,0:19]\n",
    "for column in list(log_selection.columns):\n",
    "    min_value_per_column = min(i for i in log_selection.loc[:,column] if i > 0)\n",
    "    log_selection.loc[:,column] = np.log(log_selection.loc[:,column]).replace(-np.inf, np.log(min_value_per_column/1000))"
   ]
  },
  {
   "cell_type": "code",
   "execution_count": 10,
   "metadata": {
    "scrolled": false
   },
   "outputs": [],
   "source": [
    "# Join dataframes and adding OneHotEncoding for Categorical values of 'Analyse' column\n",
    "# data = scaled_selection.join(log_selection).join(dummies_analyse_main).join(df['contracted']).join(coil_list).dropna()\n",
    "data = log_selection.join(dummies_analyse_main).join(df['contracted']).join(coil_list).dropna()"
   ]
  },
  {
   "cell_type": "markdown",
   "metadata": {},
   "source": [
    "## Data selection and partitioning"
   ]
  },
  {
   "cell_type": "code",
   "execution_count": 11,
   "metadata": {
    "scrolled": false
   },
   "outputs": [
    {
     "name": "stdout",
     "output_type": "stream",
     "text": [
      "1754\n",
      "                   0         1         2         3         4\n",
      "Hardness_1  9.210640  9.254453  9.222467  9.212338  9.361859\n",
      "Hardness_2  4.615121  4.653960  4.615121  4.605170  4.634729\n",
      "Width       7.171734  7.242726  7.170196  7.170273  7.523157\n",
      "Thickness   1.472472  0.924259  0.841567  0.841567  1.294727\n",
      "c           5.872118  6.658011  6.236370  5.963579  3.091042\n",
      "...              ...       ...       ...       ...       ...\n",
      "TB4         0.000000  0.000000  0.000000  0.000000  0.000000\n",
      "TB5         0.000000  0.000000  0.000000  0.000000  0.000000\n",
      "TB6         0.000000  0.000000  0.000000  0.000000  0.000000\n",
      "TB7         0.000000  0.000000  0.000000  0.000000  0.000000\n",
      "contracted  1.000000  1.000000  1.000000  1.000000  1.000000\n",
      "\n",
      "[126 rows x 5 columns]\n",
      "                   0         1         2         3         4\n",
      "Hardness_1  9.373564  9.217018  9.382612  9.219498  9.239025\n",
      "Hardness_2  4.912655  4.615121  4.820282  4.477337  4.499810\n",
      "Width       7.186296  7.035004  6.735067  7.285507  7.184932\n",
      "Thickness   1.549688  1.238374  1.547563  1.241269  1.184790\n",
      "c           6.650279  5.924256  6.614726  3.135494  2.708050\n",
      "...              ...       ...       ...       ...       ...\n",
      "TB4         0.000000  0.000000  0.000000  0.000000  0.000000\n",
      "TB5         0.000000  0.000000  0.000000  0.000000  0.000000\n",
      "TB6         0.000000  0.000000  0.000000  0.000000  0.000000\n",
      "TB7         0.000000  0.000000  0.000000  0.000000  0.000000\n",
      "contracted  0.000000  0.000000  0.000000  0.000000  0.000000\n",
      "\n",
      "[126 rows x 5 columns]\n"
     ]
    }
   ],
   "source": [
    "# Making balanced datasets\n",
    "in_bad_coil_list = []\n",
    "for coil in data['coil']:\n",
    "    if coil in bad_coil_list:\n",
    "        in_bad_coil_list.append(1)\n",
    "    else:\n",
    "        in_bad_coil_list.append(0)\n",
    "data['in_bad_coil_list'] = in_bad_coil_list\n",
    "df_bad_coils = data[data['in_bad_coil_list']==1].reset_index().drop(columns=['coil',\n",
    "                                                                             'in_bad_coil_list',\n",
    "                                                                             'Thickness profile',\n",
    "                                                                             'index'])\n",
    "len_bad_coil_list = len(df_bad_coils)\n",
    "print(len_bad_coil_list)\n",
    "print(df_bad_coils.head().T)\n",
    "\n",
    "df_good_coils = data[data.contracted == 0].sample(len_bad_coil_list).reset_index().drop(columns=['coil',\n",
    "                                                                                                 'in_bad_coil_list',\n",
    "                                                                                                 'Thickness profile',\n",
    "                                                                                                 'index'])\n",
    "df_good_coils.to_csv('df_good_coils.csv', index=True, header=True)\n",
    "df_good_coils = pd.read_csv('df_good_coils.csv').drop(columns=['Unnamed: 0']).dropna()\n",
    "print(df_good_coils.head().T)"
   ]
  },
  {
   "cell_type": "code",
   "execution_count": 12,
   "metadata": {},
   "outputs": [
    {
     "name": "stdout",
     "output_type": "stream",
     "text": [
      "1754 1754\n",
      "False\n"
     ]
    }
   ],
   "source": [
    "# concat even number of good and bad coils in df and reshuffle the dataframe so we randomize the the data when we\n",
    "# split it. \n",
    "df_balanced_coils = pd.concat([df_good_coils, df_bad_coils]).sample(frac=1).reset_index(drop=True).dropna()\n",
    "X = df_balanced_coils.iloc[:,:-2]\n",
    "y = df_balanced_coils.contracted\n",
    "x_train, x_test, y_train, y_test = train_test_split(X, y, test_size=0.2, random_state=42)\n",
    "\n",
    "print(len(df_bad_coils), len(df_good_coils))\n",
    "print(np.any(np.isnan(df_balanced_coils)))"
   ]
  },
  {
   "cell_type": "markdown",
   "metadata": {},
   "source": [
    "## Baseline modeling"
   ]
  },
  {
   "cell_type": "code",
   "execution_count": 13,
   "metadata": {},
   "outputs": [],
   "source": [
    "lr = LogisticRegression(random_state=42)\n",
    "dt = DecisionTreeClassifier()\n",
    "rf = RandomForestClassifier(random_state=42)\n",
    "svm = svm.SVC(random_state=42)\n",
    "gaus = GaussianNB()\n",
    "bernoul = BernoulliNB()"
   ]
  },
  {
   "cell_type": "code",
   "execution_count": 14,
   "metadata": {},
   "outputs": [],
   "source": [
    "# Set grid search params\n",
    "max_depth_range = np.arange(3,15,3)\n",
    "max_iter = np.arange(100,1000,100)\n",
    "\n",
    "grid_params_lr = [{'multi_class': ['auto', 'ovr', 'multinomial'],\n",
    "                  'max_iter': [1000]}]\n",
    "\n",
    "grid_params_dt = [{'criterion': ['gini', 'entropy'],\n",
    "                  'max_depth': max_depth_range}]\n",
    "\n",
    "grid_params_rf = [{'criterion': ['gini', 'entropy'],\n",
    "        'max_depth': max_depth_range,\n",
    "        'min_samples_split': max_depth_range}]\n",
    "\n",
    "grid_params_svm = [{'kernel': ['linear', 'rbf'], \n",
    "        'C': max_depth_range}]\n",
    "\n",
    "grid_params_gaus = [{'var_smoothing': np.logspace(0, -9, num=100)}]\n",
    "\n",
    "grid_params_bernoul = [{'alpha':np.linspace(0.1,1,10)}]"
   ]
  },
  {
   "cell_type": "code",
   "execution_count": 15,
   "metadata": {},
   "outputs": [],
   "source": [
    "LR = GridSearchCV(lr,\n",
    "            param_grid=grid_params_lr,\n",
    "            scoring='accuracy',\n",
    "            cv=3)\n",
    "\n",
    "DT = GridSearchCV(dt,\n",
    "                 param_grid=grid_params_dt,\n",
    "                 scoring='accuracy',\n",
    "                 cv=3)\n",
    "\n",
    "RF = GridSearchCV(rf,\n",
    "                 param_grid=grid_params_rf,\n",
    "                 scoring='accuracy',\n",
    "                 cv=3)\n",
    "\n",
    "SVM = GridSearchCV(svm,\n",
    "                  param_grid=grid_params_svm,\n",
    "                  scoring='accuracy',\n",
    "                  cv=3)\n",
    "\n",
    "GAUS = GridSearchCV(gaus,\n",
    "                  param_grid=grid_params_gaus,\n",
    "                  scoring='accuracy',\n",
    "                  cv=3)\n",
    "\n",
    "BERN = GridSearchCV(bernoul,\n",
    "                  param_grid=grid_params_bernoul,\n",
    "                  scoring='accuracy',\n",
    "                  cv=3)"
   ]
  },
  {
   "cell_type": "code",
   "execution_count": 16,
   "metadata": {},
   "outputs": [],
   "source": [
    "grids = [LR, DT, RF, SVM, GAUS, BERN]\n",
    "\n",
    "# Creating a dict for our reference\n",
    "grid_dict = {0: 'Logistic Regression',\n",
    "            1: 'Decision Tree Classifier',\n",
    "            2: 'Random Forest Classifier',\n",
    "            3: 'Support Vector Machine',\n",
    "            4: 'Gausian NB',\n",
    "            5: 'Bernoulli NB'}"
   ]
  },
  {
   "cell_type": "code",
   "execution_count": 17,
   "metadata": {
    "scrolled": false
   },
   "outputs": [
    {
     "name": "stdout",
     "output_type": "stream",
     "text": [
      "Performing model optimizations...\n",
      "\n",
      "Estimator: Logistic Regression\n",
      "Best params are : {'max_iter': 1000, 'multi_class': 'auto'}\n",
      "Best training accuracy: 0.889\n",
      "Test set accuracy score for best params: 0.889 \n",
      "Confusion Matrix: \n",
      "[[310  44]\n",
      " [ 34 314]]\n"
     ]
    },
    {
     "data": {
      "image/png": "[encoded data removed]",
      "text/plain": [
       "<Figure size 432x288 with 1 Axes>"
      ]
     },
     "metadata": {
      "needs_background": "light"
     },
     "output_type": "display_data"
    },
    {
     "name": "stdout",
     "output_type": "stream",
     "text": [
      "\n",
      "Estimator: Decision Tree Classifier\n",
      "Best params are : {'criterion': 'gini', 'max_depth': 6}\n",
      "Best training accuracy: 0.888\n",
      "Test set accuracy score for best params: 0.889 \n",
      "Confusion Matrix: \n",
      "[[316  38]\n",
      " [ 40 308]]\n"
     ]
    },
    {
     "data": {
      "image/png": "[encoded data removed]",
      "text/plain": [
       "<Figure size 432x288 with 1 Axes>"
      ]
     },
     "metadata": {
      "needs_background": "light"
     },
     "output_type": "display_data"
    },
    {
     "name": "stdout",
     "output_type": "stream",
     "text": [
      "\n",
      "Estimator: Random Forest Classifier\n",
      "Best params are : {'criterion': 'entropy', 'max_depth': 12, 'min_samples_split': 3}\n",
      "Best training accuracy: 0.906\n",
      "Test set accuracy score for best params: 0.913 \n",
      "Confusion Matrix: \n",
      "[[322  32]\n",
      " [ 29 319]]\n"
     ]
    },
    {
     "data": {
      "image/png": "[encoded data removed]",
      "text/plain": [
       "<Figure size 432x288 with 1 Axes>"
      ]
     },
     "metadata": {
      "needs_background": "light"
     },
     "output_type": "display_data"
    },
    {
     "name": "stdout",
     "output_type": "stream",
     "text": [
      "\n",
      "Estimator: Support Vector Machine\n",
      "Best params are : {'C': 6, 'kernel': 'linear'}\n",
      "Best training accuracy: 0.890\n",
      "Test set accuracy score for best params: 0.866 \n",
      "Confusion Matrix: \n",
      "[[306  48]\n",
      " [ 46 302]]\n"
     ]
    },
    {
     "data": {
      "image/png": "[encoded data removed]",
      "text/plain": [
       "<Figure size 432x288 with 1 Axes>"
      ]
     },
     "metadata": {
      "needs_background": "light"
     },
     "output_type": "display_data"
    },
    {
     "name": "stdout",
     "output_type": "stream",
     "text": [
      "\n",
      "Estimator: Gausian NB\n",
      "Best params are : {'var_smoothing': 0.0001}\n",
      "Best training accuracy: 0.852\n",
      "Test set accuracy score for best params: 0.852 \n",
      "Confusion Matrix: \n",
      "[[251 103]\n",
      " [  1 347]]\n"
     ]
    },
    {
     "data": {
      "image/png": "[encoded data removed]",
      "text/plain": [
       "<Figure size 432x288 with 1 Axes>"
      ]
     },
     "metadata": {
      "needs_background": "light"
     },
     "output_type": "display_data"
    },
    {
     "name": "stdout",
     "output_type": "stream",
     "text": [
      "\n",
      "Estimator: Bernoulli NB\n",
      "Best params are : {'alpha': 0.1}\n",
      "Best training accuracy: 0.871\n",
      "Test set accuracy score for best params: 0.868 \n",
      "Confusion Matrix: \n",
      "[[304  50]\n",
      " [ 43 305]]\n"
     ]
    },
    {
     "data": {
      "image/png": "[encoded data removed]",
      "text/plain": [
       "<Figure size 432x288 with 1 Axes>"
      ]
     },
     "metadata": {
      "needs_background": "light"
     },
     "output_type": "display_data"
    },
    {
     "name": "stdout",
     "output_type": "stream",
     "text": [
      "\n",
      "Classifier with best test set accuracy: Random Forest Classifier\n",
      "\n",
      "Saved Random Forest Classifier grid search pipeline to file: best_grid_search_pipeline.pkl\n"
     ]
    }
   ],
   "source": [
    "warnings.filterwarnings(\"ignore\")\n",
    "\n",
    "# Fit the grid search objects\n",
    "print('Performing model optimizations...')\n",
    "best_acc = 0.0\n",
    "best_clf = 0\n",
    "best_gs = ''\n",
    "for idx, gs in enumerate(grids):\n",
    "    print('\\nEstimator: %s' % grid_dict[idx])\n",
    "    gs.fit(x_train, y_train)\n",
    "    print('Best params are : %s' % gs.best_params_)\n",
    "    \n",
    "    # Best training data accuracy\n",
    "    print('Best training accuracy: %.3f' % gs.best_score_)\n",
    "    \n",
    "    # Predict on test data with best params\n",
    "    y_pred = gs.predict(x_test)\n",
    "    \n",
    "    # Test data accuracy of model with best params\n",
    "    print('Test set accuracy score for best params: %.3f ' % accuracy_score(y_test, y_pred))\n",
    "    \n",
    "    # Confusion matrix for model\n",
    "    print('Confusion Matrix:', f'\\n{confusion_matrix(y_test, y_pred)}')\n",
    "    \n",
    "    # calculate roc curves\n",
    "    lr_fpr, lr_tpr, _ = roc_curve(y_test, y_pred)\n",
    "    # plot the roc curve for the model\n",
    "    plt.plot(lr_fpr, lr_tpr, marker='.', label=f'{grid_dict[idx]}')\n",
    "    # axis labels\n",
    "    plt.xlabel('False Positive Rate')\n",
    "    plt.ylabel('True Positive Rate')\n",
    "    # show the legend\n",
    "    plt.legend()\n",
    "    # show the plot\n",
    "    plt.show()\n",
    "    \n",
    "    \n",
    "    # Track best (highest test accuracy) model\n",
    "    if accuracy_score(y_test, y_pred) > best_acc:\n",
    "        best_acc = accuracy_score(y_test, y_pred)\n",
    "        best_gs = gs\n",
    "        best_clf = idx\n",
    "print('\\nClassifier with best test set accuracy: %s' % grid_dict[best_clf])\n",
    "\n",
    "\n",
    "# Save best grid search pipeline to file\n",
    "dump_file = 'best_grid_search_pipeline.pkl'\n",
    "joblib.dump(best_gs, dump_file, compress=1)\n",
    "print('\\nSaved %s grid search pipeline to file: %s' % (grid_dict[best_clf], dump_file))\n"
   ]
  },
  {
   "cell_type": "code",
   "execution_count": 18,
   "metadata": {},
   "outputs": [],
   "source": [
    "# # Now we can create k train-test splits using KFold\n",
    "# from sklearn.model_selection import KFold\n",
    "\n",
    "# # Using KFold instead of calling multiple times train_test_split to ensure that each\n",
    "# # sample goes into a single split only\n",
    "# kf = KFold(n_splits=5, random_state=45, shuffle=True)\n",
    "\n",
    "# split = 0\n",
    "# scores = []\n",
    "# for train_index, test_index in kf.split(X):\n",
    "    \n",
    "#     X_train, X_test = X[train_index], X[test_index]\n",
    "#     y_train, y_test = y[train_index], y[test_index]\n",
    "    \n",
    "#     result = single_grid_search(X_train, y_train)\n",
    "    \n",
    "#     decision_tree = result.best_estimator_\n",
    "#     score = decision_tree.score(X_test, y_test)\n",
    "#     scores.append(score)\n",
    "#     print(\"### Split {}: Accuracy is {:.2f}% ###\".format(split := split + 1, score*100))\n",
    "    \n",
    "# print(\"The mean generalization accuracy of the model is {:.2f}% (+/- {:.2f}%)\".format(np.mean(scores) * 100, np.std(scores) * 100))"
   ]
  },
  {
   "cell_type": "markdown",
   "metadata": {},
   "source": [
    "## Model evaluation and visualization of parameters"
   ]
  },
  {
   "cell_type": "code",
   "execution_count": 19,
   "metadata": {
    "scrolled": false
   },
   "outputs": [
    {
     "name": "stdout",
     "output_type": "stream",
     "text": [
      "Feature ranking:\n",
      "1. Hardness_2(0.109798)\n",
      "2. ti(0.083784)\n",
      "3. Thickness(0.078655)\n",
      "4. Hardness_1(0.077387)\n",
      "5. mn(0.076482)\n",
      "6. Width(0.053180)\n",
      "7. c(0.052301)\n",
      "8. nb(0.051698)\n",
      "9. s(0.049497)\n",
      "10. p(0.049345)\n",
      "11. KT1(0.045358)\n",
      "12. si(0.041260)\n",
      "13. NB0(0.028093)\n",
      "14. n(0.023654)\n",
      "15. b(0.023599)\n",
      "16. ma(0.018684)\n",
      "17. cr(0.018383)\n",
      "18. al(0.016678)\n",
      "19. K82(0.014815)\n",
      "20. mo(0.014564)\n"
     ]
    },
    {
     "data": {
      "image/png": "[encoded data removed]",
      "text/plain": [
       "<Figure size 1440x720 with 1 Axes>"
      ]
     },
     "metadata": {
      "needs_background": "light"
     },
     "output_type": "display_data"
    }
   ],
   "source": [
    "rand_forest = RandomForestClassifier(criterion='gini', max_depth=12, min_samples_split=3)\n",
    "rand_forest.fit(x_train, y_train)\n",
    "importances = rand_forest.feature_importances_\n",
    "\n",
    "std = np.std([tree.feature_importances_ for tree in rand_forest.estimators_],\n",
    "             axis=0)\n",
    "indices = np.argsort(importances)[::-1]\n",
    "feature_names = [list(X.columns)[i] for i in indices]\n",
    "\n",
    "# Print the feature ranking\n",
    "print(\"Feature ranking:\")\n",
    "\n",
    "for f in np.arange(0,20):\n",
    "    print(f\"%d. %s(%f)\" %(f+1, feature_names[f], importances[indices[f]]))\n",
    "\n",
    "# Plot the impurity-based feature importances of the forest\n",
    "fig, ax = plt.subplots(figsize=(20,10))\n",
    "plt.title(\"Feature importances in the Random Classifier Model\")\n",
    "ax.bar(np.arange(0,20), importances[indices][0:20],\n",
    "        color=\"r\", align=\"center\")\n",
    "plt.xticks(np.arange(0,20), feature_names[:20], rotation=30)\n",
    "plt.xlabel('Metric')\n",
    "plt.ylabel('Feature importance')\n",
    "ax.yaxis.set_major_formatter(mtick.PercentFormatter())\n",
    "plt.show()"
   ]
  },
  {
   "cell_type": "code",
   "execution_count": null,
   "metadata": {},
   "outputs": [],
   "source": []
  }
 ],
 "metadata": {
  "kernelspec": {
   "display_name": "Python 3",
   "language": "python",
   "name": "python3"
  },
  "language_info": {
   "codemirror_mode": {
    "name": "ipython",
    "version": 3
   },
   "file_extension": ".py",
   "mimetype": "text/x-python",
   "name": "python",
   "nbconvert_exporter": "python",
   "pygments_lexer": "ipython3",
   "version": "3.8.5"
  }
 },
 "nbformat": 4,
 "nbformat_minor": 4
}
